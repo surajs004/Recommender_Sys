{
 "cells": [
  {
   "cell_type": "code",
   "execution_count": 8,
   "metadata": {},
   "outputs": [],
   "source": [
    "#Importing the required libraries\n",
    "import pandas as pd \n",
    "import numpy as np\n",
    "import random\n",
    "from playsound import playsound\n",
    "import re \n",
    "import gtts\n",
    "import os\n",
    "import matplotlib.pyplot as plt\n",
    "import seaborn as sns\n",
    "%matplotlib inline"
   ]
  },
  {
   "cell_type": "code",
   "execution_count": 2,
   "metadata": {},
   "outputs": [],
   "source": [
    "#importing the dataset\n",
    "movies_dataset=pd.read_csv('ml-latest-small/movies.csv')\n",
    "ratings_dataset=pd.read_csv('ml-latest-small/ratings.csv')"
   ]
  },
  {
   "cell_type": "code",
   "execution_count": 4,
   "metadata": {},
   "outputs": [
    {
     "data": {
      "text/html": [
       "<div>\n",
       "<style scoped>\n",
       "    .dataframe tbody tr th:only-of-type {\n",
       "        vertical-align: middle;\n",
       "    }\n",
       "\n",
       "    .dataframe tbody tr th {\n",
       "        vertical-align: top;\n",
       "    }\n",
       "\n",
       "    .dataframe thead th {\n",
       "        text-align: right;\n",
       "    }\n",
       "</style>\n",
       "<table border=\"1\" class=\"dataframe\">\n",
       "  <thead>\n",
       "    <tr style=\"text-align: right;\">\n",
       "      <th></th>\n",
       "      <th>movieId</th>\n",
       "      <th>title</th>\n",
       "      <th>genres</th>\n",
       "    </tr>\n",
       "  </thead>\n",
       "  <tbody>\n",
       "    <tr>\n",
       "      <th>0</th>\n",
       "      <td>1</td>\n",
       "      <td>Toy Story (1995)</td>\n",
       "      <td>Adventure|Animation|Children|Comedy|Fantasy</td>\n",
       "    </tr>\n",
       "    <tr>\n",
       "      <th>1</th>\n",
       "      <td>2</td>\n",
       "      <td>Jumanji (1995)</td>\n",
       "      <td>Adventure|Children|Fantasy</td>\n",
       "    </tr>\n",
       "    <tr>\n",
       "      <th>2</th>\n",
       "      <td>3</td>\n",
       "      <td>Grumpier Old Men (1995)</td>\n",
       "      <td>Comedy|Romance</td>\n",
       "    </tr>\n",
       "    <tr>\n",
       "      <th>3</th>\n",
       "      <td>4</td>\n",
       "      <td>Waiting to Exhale (1995)</td>\n",
       "      <td>Comedy|Drama|Romance</td>\n",
       "    </tr>\n",
       "    <tr>\n",
       "      <th>4</th>\n",
       "      <td>5</td>\n",
       "      <td>Father of the Bride Part II (1995)</td>\n",
       "      <td>Comedy</td>\n",
       "    </tr>\n",
       "  </tbody>\n",
       "</table>\n",
       "</div>"
      ],
      "text/plain": [
       "   movieId                               title  \\\n",
       "0        1                    Toy Story (1995)   \n",
       "1        2                      Jumanji (1995)   \n",
       "2        3             Grumpier Old Men (1995)   \n",
       "3        4            Waiting to Exhale (1995)   \n",
       "4        5  Father of the Bride Part II (1995)   \n",
       "\n",
       "                                        genres  \n",
       "0  Adventure|Animation|Children|Comedy|Fantasy  \n",
       "1                   Adventure|Children|Fantasy  \n",
       "2                               Comedy|Romance  \n",
       "3                         Comedy|Drama|Romance  \n",
       "4                                       Comedy  "
      ]
     },
     "execution_count": 4,
     "metadata": {},
     "output_type": "execute_result"
    }
   ],
   "source": [
    "#Checking the head and info of our dataset\n",
    "movies_dataset.head(5)"
   ]
  },
  {
   "cell_type": "code",
   "execution_count": 5,
   "metadata": {},
   "outputs": [
    {
     "data": {
      "text/html": [
       "<div>\n",
       "<style scoped>\n",
       "    .dataframe tbody tr th:only-of-type {\n",
       "        vertical-align: middle;\n",
       "    }\n",
       "\n",
       "    .dataframe tbody tr th {\n",
       "        vertical-align: top;\n",
       "    }\n",
       "\n",
       "    .dataframe thead th {\n",
       "        text-align: right;\n",
       "    }\n",
       "</style>\n",
       "<table border=\"1\" class=\"dataframe\">\n",
       "  <thead>\n",
       "    <tr style=\"text-align: right;\">\n",
       "      <th></th>\n",
       "      <th>userId</th>\n",
       "      <th>movieId</th>\n",
       "      <th>rating</th>\n",
       "      <th>timestamp</th>\n",
       "    </tr>\n",
       "  </thead>\n",
       "  <tbody>\n",
       "    <tr>\n",
       "      <th>0</th>\n",
       "      <td>1</td>\n",
       "      <td>31</td>\n",
       "      <td>2.5</td>\n",
       "      <td>1260759144</td>\n",
       "    </tr>\n",
       "    <tr>\n",
       "      <th>1</th>\n",
       "      <td>1</td>\n",
       "      <td>1029</td>\n",
       "      <td>3.0</td>\n",
       "      <td>1260759179</td>\n",
       "    </tr>\n",
       "    <tr>\n",
       "      <th>2</th>\n",
       "      <td>1</td>\n",
       "      <td>1061</td>\n",
       "      <td>3.0</td>\n",
       "      <td>1260759182</td>\n",
       "    </tr>\n",
       "    <tr>\n",
       "      <th>3</th>\n",
       "      <td>1</td>\n",
       "      <td>1129</td>\n",
       "      <td>2.0</td>\n",
       "      <td>1260759185</td>\n",
       "    </tr>\n",
       "    <tr>\n",
       "      <th>4</th>\n",
       "      <td>1</td>\n",
       "      <td>1172</td>\n",
       "      <td>4.0</td>\n",
       "      <td>1260759205</td>\n",
       "    </tr>\n",
       "  </tbody>\n",
       "</table>\n",
       "</div>"
      ],
      "text/plain": [
       "   userId  movieId  rating   timestamp\n",
       "0       1       31     2.5  1260759144\n",
       "1       1     1029     3.0  1260759179\n",
       "2       1     1061     3.0  1260759182\n",
       "3       1     1129     2.0  1260759185\n",
       "4       1     1172     4.0  1260759205"
      ]
     },
     "execution_count": 5,
     "metadata": {},
     "output_type": "execute_result"
    }
   ],
   "source": [
    "ratings_dataset.head(5)"
   ]
  },
  {
   "cell_type": "code",
   "execution_count": 6,
   "metadata": {},
   "outputs": [
    {
     "name": "stdout",
     "output_type": "stream",
     "text": [
      "<class 'pandas.core.frame.DataFrame'>\n",
      "RangeIndex: 9125 entries, 0 to 9124\n",
      "Data columns (total 3 columns):\n",
      "movieId    9125 non-null int64\n",
      "title      9125 non-null object\n",
      "genres     9125 non-null object\n",
      "dtypes: int64(1), object(2)\n",
      "memory usage: 213.9+ KB\n"
     ]
    }
   ],
   "source": [
    "movies_dataset.info()"
   ]
  },
  {
   "cell_type": "code",
   "execution_count": 7,
   "metadata": {},
   "outputs": [
    {
     "name": "stdout",
     "output_type": "stream",
     "text": [
      "<class 'pandas.core.frame.DataFrame'>\n",
      "RangeIndex: 100004 entries, 0 to 100003\n",
      "Data columns (total 4 columns):\n",
      "userId       100004 non-null int64\n",
      "movieId      100004 non-null int64\n",
      "rating       100004 non-null float64\n",
      "timestamp    100004 non-null int64\n",
      "dtypes: float64(1), int64(3)\n",
      "memory usage: 3.1 MB\n"
     ]
    }
   ],
   "source": [
    "ratings_dataset.info()"
   ]
  },
  {
   "cell_type": "code",
   "execution_count": 10,
   "metadata": {},
   "outputs": [
    {
     "data": {
      "text/plain": [
       "<matplotlib.axes._subplots.AxesSubplot at 0x20129abe438>"
      ]
     },
     "execution_count": 10,
     "metadata": {},
     "output_type": "execute_result"
    },
    {
     "data": {
      "image/png": "[encoded data removed]",
      "text/plain": [
       "<Figure size 432x288 with 1 Axes>"
      ]
     },
     "metadata": {
      "needs_background": "light"
     },
     "output_type": "display_data"
    }
   ],
   "source": [
    "sns.kdeplot(ratings_dataset['rating'])"
   ]
  },
  {
   "cell_type": "code",
   "execution_count": 11,
   "metadata": {},
   "outputs": [],
   "source": [
    "#Converting the format of Genre column to a list and then appending to the new list\n",
    "Genre=[]\n",
    "Genres={}\n",
    "for num in range(0,len(movies_dataset)):\n",
    "    key=movies_dataset.iloc[num]['title']\n",
    "    value=movies_dataset.iloc[num]['genres'].split('|')\n",
    "    Genres[key]=value\n",
    "    Genre.append(value)"
   ]
  },
  {
   "cell_type": "code",
   "execution_count": 12,
   "metadata": {},
   "outputs": [],
   "source": [
    "#Making a new column in our original Dataset         \n",
    "movies_dataset['new'] =Genre"
   ]
  },
  {
   "cell_type": "code",
   "execution_count": 13,
   "metadata": {},
   "outputs": [],
   "source": [
    "#Getting the year from the movie column \n",
    "p = re.compile(r\"(?:\\((\\d{4})\\))?\\s*$\")\n",
    "years=[]\n",
    "for movies in movies_dataset['title']:\n",
    "     m = p.search(movies)\n",
    "     year = m.group(1)\n",
    "     years.append(year)  \n",
    "movies_dataset['year']=years"
   ]
  },
  {
   "cell_type": "code",
   "execution_count": 14,
   "metadata": {},
   "outputs": [],
   "source": [
    "#Deleting the year from the movies title column\n",
    "movies_name=[]\n",
    "raw=[]\n",
    "for movies in movies_dataset['title']:\n",
    "     m = p.search(movies)\n",
    "     year = m.group(0)\n",
    "     new=re.split(year,movies)\n",
    "     raw.append(new)  \n",
    "for i in range(len(raw)):\n",
    "    movies_name.append(raw[i][0][:-2])"
   ]
  },
  {
   "cell_type": "code",
   "execution_count": 15,
   "metadata": {},
   "outputs": [],
   "source": [
    "#Making a new column in the dataset having the movie name only in it \n",
    "movies_dataset['movie_name']=movies_name"
   ]
  },
  {
   "cell_type": "code",
   "execution_count": 16,
   "metadata": {},
   "outputs": [],
   "source": [
    "#Converting the datatype of new column from list to string as required by the function\n",
    "movies_dataset['new']=movies_dataset['new'].apply(' '.join)"
   ]
  },
  {
   "cell_type": "code",
   "execution_count": 17,
   "metadata": {},
   "outputs": [],
   "source": [
    " #Applying Feature extraction \n",
    "from sklearn.feature_extraction.text import TfidfVectorizer"
   ]
  },
  {
   "cell_type": "code",
   "execution_count": 18,
   "metadata": {},
   "outputs": [],
   "source": [
    "tfid=TfidfVectorizer(stop_words='english')\n",
    "#matrix after applying the tfidf\n",
    "matrix=tfid.fit_transform(movies_dataset['new'])\n"
   ]
  },
  {
   "cell_type": "code",
   "execution_count": 19,
   "metadata": {},
   "outputs": [],
   "source": [
    "#Compute the cosine similarity of every genre\n",
    "from sklearn.metrics.pairwise import cosine_similarity\n"
   ]
  },
  {
   "cell_type": "code",
   "execution_count": 20,
   "metadata": {},
   "outputs": [],
   "source": [
    "cosine_sim=cosine_similarity(matrix,matrix)\n"
   ]
  },
  {
   "cell_type": "code",
   "execution_count": 21,
   "metadata": {},
   "outputs": [],
   "source": [
    "#Making a new series which have two columns in it \n",
    "#Movie name and movie id \n",
    "movies_dataset = movies_dataset.reset_index()\n",
    "titles = movies_dataset['movie_name']\n",
    "indices = pd.Series(movies_dataset.index, index=movies_dataset['movie_name'])"
   ]
  },
  {
   "cell_type": "code",
   "execution_count": 40,
   "metadata": {},
   "outputs": [],
   "source": [
    "#Function to make recommendation to the user\n",
    "def recommendataion(movie):\n",
    "    result=[]\n",
    "    #Getting the id of the movie for which the user want recommendation\n",
    "    ind=indices[movie]\n",
    "    #Getting all the similar cosine score for that movie\n",
    "    sim_scores=list(enumerate(cosine_sim[ind]))\n",
    "    #Sorting the list obtained\n",
    "    sim_scores=sorted(sim_scores,key=lambda x:x[1],reverse=True)    \n",
    "    #Getting all the id of the movies that are related to the movie Entered by the user\n",
    "    movie_id=[i[0] for i in sim_scores]    \n",
    "    print('The Movie You Should Watched Next Are --')\n",
    "    print('ID ,   Name ,  Average Ratings , Year ')\n",
    "    #Varible to print only top 10 movies\n",
    "    count=0\n",
    "    for id in range(0,len(movie_id)):\n",
    "      #to ensure that the movie entered by the user is doesnot come in his/her recommendation\n",
    "        if(ind != movie_id[id]):\n",
    "            ratings=ratings_dataset[ratings_dataset['movieId']==movie_id[id]]['rating']\n",
    "            avg_ratings=round(np.mean(ratings),2)\n",
    "            #To print only thoese movies which have an average ratings that is more than 3.5\n",
    "            if(avg_ratings >3.5):\n",
    "                count+=1\n",
    "                print(f'{movie_id[id]} , {titles[movie_id[id]]} ,{avg_ratings}')\n",
    "                result.append([titles[movie_id[id]],str(avg_ratings)])\n",
    "            if(count >=10):\n",
    "                    break\n",
    "    \n",
    "    print('Wait!! i am telling your recommendation')\n",
    "    return result"
   ]
  },
  {
   "cell_type": "code",
   "execution_count": 24,
   "metadata": {},
   "outputs": [],
   "source": [
    "#Converting the text to speech using google text to speech api\n",
    "def text_to_speech():\n",
    "    file = open('dd.txt','w')\n",
    "    file.writelines(f'hello User \\n')\n",
    "    file.writelines('The Movie You Should Watched Next and their corresponding ratings are \\n') \n",
    "    for res in result:\n",
    "        res=' '.join(res)\n",
    "        file.write(res+'\\n')\n",
    "        \n",
    "    file.close()\n",
    "    file = open('dd.txt','r')\n",
    "    data= file.read()\n",
    "    file.close()\n",
    "    \n",
    "    \n",
    "    # Language in which you want to convert \n",
    "    language = 'en'\n",
    "      \n",
    "    # Passing the text and language to the engine,  \n",
    "    # here we have marked slow=False. Which tells  \n",
    "    # the module that the converted audio should  \n",
    "    # have a high speed \n",
    "    myobj = gtts.gTTS(text=data, lang=language, slow=False) \n",
    "      \n",
    "    # Saving the converted audio in a mp3 file named   \n",
    "    i=random.randint(1,100)\n",
    "    file='new'+str(i)+'.mp3'\n",
    "    myobj.save(file) \n",
    "      \n",
    "    #Playing the converted file \n",
    "    playsound(file)"
   ]
  },
  {
   "cell_type": "code",
   "execution_count": 30,
   "metadata": {},
   "outputs": [],
   "source": [
    "#Making the method to get text from speech\n",
    "import speech_recognition as sr"
   ]
  },
  {
   "cell_type": "code",
   "execution_count": 28,
   "metadata": {},
   "outputs": [],
   "source": [
    "def speech_to_text():\n",
    "\n",
    "    sample_rate = 48000\n",
    "\n",
    "    chunk_size = 2048\n",
    "    #Initialize the recognizer \n",
    "    r = sr.Recognizer() \n",
    "\n",
    "    with sr.Microphone(sample_rate = sample_rate,  \n",
    "                            chunk_size = chunk_size) as source: \n",
    "        #wait for a second to let the recognizer adjust the  \n",
    "        #energy threshold based on the surrounding noise level \n",
    "        r.adjust_for_ambient_noise(source) \n",
    "        print (\"Speak the name of the movie \")\n",
    "        #listens for the user's input \n",
    "        audio = r.listen(source) \n",
    "\n",
    "        try: \n",
    "            text = r.recognize_google(audio) \n",
    "            print(text)\n",
    "\n",
    "        #error occurs when google could not understand what was said \n",
    "\n",
    "        except sr.UnknownValueError: \n",
    "            print(\"Google Speech Recognition could not understand audio\") \n",
    "\n",
    "        except sr.RequestError as e: \n",
    "            print(\"Could not request results from Google  Speech Recognition service; {0}\".format(e)) \n",
    "                \n",
    "        return text"
   ]
  },
  {
   "cell_type": "code",
   "execution_count": 41,
   "metadata": {},
   "outputs": [
    {
     "name": "stdout",
     "output_type": "stream",
     "text": [
      "Speak the name of the movie \n",
      "Yeh Jawaani Hai Deewani\n",
      "The Movie You Should Watched Next Are --\n",
      "ID ,   Name ,  Average Ratings , Year \n",
      "735 , My Fair Lady ,4.12\n",
      "2571 , Pal Joey ,4.18\n",
      "4537 , Sweet Charity ,4.25\n",
      "4801 , Lagaan: Once Upon a Time in India ,4.5\n",
      "720 , Singin' in the Rain ,4.0\n",
      "728 , Gay Divorcee, The ,3.97\n",
      "872 , Victor/Victoria ,5.0\n",
      "1120 , Grease ,3.62\n",
      "2302 , Pajama Game, The ,3.55\n",
      "2929 , White Christmas ,3.89\n",
      "Wait!! i am telling your recommendation\n"
     ]
    }
   ],
   "source": [
    "#Getting the output   \n",
    "text=Speech_Recog.speech_to_text()\n",
    "result=recommendataion(text)\n",
    "text_to_speech()\n"
   ]
  },
  {
   "cell_type": "code",
   "execution_count": null,
   "metadata": {},
   "outputs": [],
   "source": []
  }
 ],
 "metadata": {
  "kernelspec": {
   "display_name": "Python 3",
   "language": "python",
   "name": "python3"
  },
  "language_info": {
   "codemirror_mode": {
    "name": "ipython",
    "version": 3
   },
   "file_extension": ".py",
   "mimetype": "text/x-python",
   "name": "python",
   "nbconvert_exporter": "python",
   "pygments_lexer": "ipython3",
   "version": "3.6.8"
  }
 },
 "nbformat": 4,
 "nbformat_minor": 2
}
